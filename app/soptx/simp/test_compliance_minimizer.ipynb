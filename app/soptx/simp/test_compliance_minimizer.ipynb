{
 "cells": [
  {
   "cell_type": "markdown",
   "metadata": {},
   "source": [
    "# 柔顺度计算"
   ]
  },
  {
   "cell_type": "code",
   "execution_count": 1,
   "metadata": {
    "jupyter": {
     "is_executing": true
    }
   },
   "outputs": [
    {
     "name": "stdout",
     "output_type": "stream",
     "text": [
      "Compliance with default rho: 41.853535\n"
     ]
    }
   ],
   "source": [
    "from compliance_minimizer import ComplianceMinimizer\n",
    "import jax.numpy as jnp \n",
    "\n",
    "Opt = ComplianceMinimizer()\n",
    "\n",
    "rho = jnp.ones((Opt.mesh['nelx'] * Opt.mesh['nely']))\n",
    "compliance = Opt.computeCompliance(rho)\n",
    "print(\"Compliance with default rho:\", compliance)"
   ]
  },
  {
   "cell_type": "markdown",
   "metadata": {},
   "source": []
  },
  {
   "cell_type": "markdown",
   "metadata": {},
   "source": [
    "## 投影滤波器"
   ]
  },
  {
   "cell_type": "code",
   "execution_count": 2,
   "metadata": {},
   "outputs": [
    {
     "name": "stdout",
     "output_type": "stream",
     "text": [
      "Original rho values:  [0.    0.125 0.25  0.375 0.5   0.625 0.75  0.875 1.   ]\n",
      "Projected rho values:  [0.         0.031      0.105      0.26000002 0.5        0.74\n",
      " 0.89500004 0.96900004 1.        ]\n"
     ]
    }
   ],
   "source": [
    "def test_projectionFilter(rho, beta, c0, isOn):\n",
    "    if isOn:\n",
    "        v1 = jnp.tanh(c0 * beta)\n",
    "        nm = v1 + jnp.tanh(beta * (rho - c0))\n",
    "        dnm = v1 + jnp.tanh(beta * (1. - c0))\n",
    "        return nm / dnm\n",
    "    else:\n",
    "        return rho\n",
    "rho_values = jnp.array([0.0, 0.125, 0.25, 0.375, 0.5, 0.625, 0.75, 0.875, 1.0])\n",
    "# 投影参数\n",
    "beta = 4\n",
    "c0 = 0.5\n",
    "isOn = True\n",
    "# 打印原始 rho 值和经过投影滤波器后的 rho 值\n",
    "print(\"Original rho values: \", rho_values)\n",
    "projected_rho_values = test_projectionFilter(rho_values, beta, c0, isOn)\n",
    "print(\"Projected rho values: \", projected_rho_values.round(3))"
   ]
  },
  {
   "cell_type": "code",
   "execution_count": 13,
   "metadata": {},
   "outputs": [
    {
     "name": "stdout",
     "output_type": "stream",
     "text": [
      "Original rho values:  (9,) \n",
      " [0.    0.125 0.25  0.375 0.5   0.625 0.75  0.875 1.   ]\n",
      "E:  (1800,) \n",
      " [1.0302707 1.0302707 1.0302707 ... 1.0302707 1.0302707 1.0302707]\n"
     ]
    }
   ],
   "source": [
    "import numpy as np\n",
    "def test_materialModel(rho, Emin, Emax, penal):\n",
    "    E = Emin + (Emax - Emin) * (rho + 0.01) ** penal\n",
    "    return E\n",
    "rho_values = np.array([0.0, 0.125, 0.25, 0.375, 0.5, 0.625, 0.75, 0.875, 1.0])\n",
    "print(\"Original rho values: \", rho_values.shape, \"\\n\", rho_values)\n",
    "Emin = 1e-3\n",
    "Emax = 1\n",
    "penal = 3\n",
    "E = test_materialModel(rho, Emin, Emax, penal)  \n",
    "print(\"E: \", E.shape, \"\\n\", E)"
   ]
  },
  {
   "cell_type": "markdown",
   "metadata": {},
   "source": [
    "## 测试单元刚度矩阵"
   ]
  },
  {
   "cell_type": "code",
   "execution_count": null,
   "metadata": {},
   "outputs": [
    {
     "name": "stdout",
     "output_type": "stream",
     "text": [
      "KE:\n",
      " [[ 0.4945055   0.17857143 -0.3021978  -0.01373626 -0.24725275 -0.17857143\n",
      "   0.05494506  0.01373626]\n",
      " [ 0.17857143  0.4945055   0.01373626  0.05494506 -0.17857143 -0.24725275\n",
      "  -0.01373626 -0.3021978 ]\n",
      " [-0.3021978   0.01373626  0.4945055  -0.17857143  0.05494506 -0.01373626\n",
      "  -0.24725275  0.17857143]\n",
      " [-0.01373626  0.05494506 -0.17857143  0.4945055   0.01373626 -0.3021978\n",
      "   0.17857143 -0.24725275]\n",
      " [-0.24725275 -0.17857143  0.05494506  0.01373626  0.4945055   0.17857143\n",
      "  -0.3021978  -0.01373626]\n",
      " [-0.17857143 -0.24725275 -0.01373626 -0.3021978   0.17857143  0.4945055\n",
      "   0.01373626  0.05494506]\n",
      " [ 0.05494506 -0.01373626 -0.24725275  0.17857143 -0.3021978   0.01373626\n",
      "   0.4945055  -0.17857143]\n",
      " [ 0.01373626 -0.3021978   0.17857143 -0.24725275 -0.01373626  0.05494506\n",
      "  -0.17857143  0.4945055 ]]\n"
     ]
    }
   ],
   "source": [
    "KE = Opt.K0\n",
    "print(\"KE:\\n\", KE)"
   ]
  },
  {
   "cell_type": "markdown",
   "metadata": {},
   "source": [
    "# 测试体积约束\n",
    "体积约束\n",
    "$$g \\equiv \\frac{\\sum_e\\rho_ev_e}{V^*} - 1 \\leq 0$$\n",
    "其中 $\\rho_e$ 和 $v_e$ 分别是第 $e$ 个单元的密度和体积。\n",
    "\n",
    "`computeGlobalVolumeConstraint` 中的实现假设了每个单元体积相同且归一化，从而使用单元密度的平均值 $\\mathrm{mean}(\\rho)$ 来近似 $\\sum_e\\rho_ev_e$\n",
    "\n",
    "对于输入 $\\rho=[0.1,0.3,0.5,0.7,0.9]$，单元体积 $v_e=0.2$，因此 $g(\\rho)=\\frac{0.5}{0.5}-1=0$，$\\frac{\\partial{g(\\rho)}}{\\partial\\rho}=\\frac{v_e}{V^*}=\\frac{0.2}{0.5}=0.4$"
   ]
  },
  {
   "cell_type": "code",
   "execution_count": null,
   "metadata": {},
   "outputs": [
    {
     "name": "stdout",
     "output_type": "stream",
     "text": [
      "Original rho values:  [0.1 0.3 0.5 0.7 0.9]\n",
      "test: 0.5\n",
      "Constraint value:  0.0\n",
      "Constraint gradient:  [0.4 0.4 0.4 0.4 0.4]\n",
      "Numerical gradient:  [0.40233135 0.40233135 0.40233135 0.40233135 0.40233135]\n",
      "Gradient error:  0.005213049\n"
     ]
    }
   ],
   "source": [
    "import jax.numpy as jnp\n",
    "from jax import value_and_grad\n",
    "\n",
    "# 定义计算体积约束的函数\n",
    "def computeGlobalVolumeConstraint(rho, vf):\n",
    "    g = jnp.mean(rho) / vf - 1.\n",
    "    return g\n",
    "\n",
    "# 测试函数\n",
    "def test_computeConstraints(rho, vf):\n",
    "    # 计算体积约束的值及其灵敏度\n",
    "    constraint_value, constraint_grad = value_and_grad(computeGlobalVolumeConstraint)(rho, vf)\n",
    "    return constraint_value, constraint_grad\n",
    "\n",
    "# 数值梯度计算函数\n",
    "def numerical_grad(f, x, vf, eps=1e-5):\n",
    "    grad = jnp.zeros_like(x)\n",
    "    for i in range(len(x)):\n",
    "        x_pos = x.at[i].add(eps)\n",
    "        x_neg = x.at[i].add(-eps)\n",
    "        grad = grad.at[i].set((f(x_pos, vf) - f(x_neg, vf)) / (2 * eps))\n",
    "    return grad\n",
    "\n",
    "# 设置测试的 rho 值和体积分数 vf\n",
    "rho_values = jnp.array([0.1, 0.3, 0.5, 0.7, 0.9])\n",
    "vf = 0.5\n",
    "\n",
    "# 打印原始 rho 值\n",
    "print(\"Original rho values: \", rho_values)\n",
    "\n",
    "# 调用测试函数并打印结果\n",
    "constraint_value, constraint_grad = test_computeConstraints(rho_values, vf)\n",
    "print(\"test:\", jnp.mean(rho_values))\n",
    "print(\"Constraint value: \", constraint_value)\n",
    "print(\"Constraint gradient: \", constraint_grad)\n",
    "\n",
    "# 计算数值梯度\n",
    "numerical_gradient = numerical_grad(computeGlobalVolumeConstraint, rho_values, vf)\n",
    "print(\"Numerical gradient: \", numerical_gradient)\n",
    "\n",
    "# 比较数值梯度和自动微分计算的梯度\n",
    "error = jnp.linalg.norm(constraint_grad - numerical_gradient)\n",
    "print(\"Gradient error: \", error)\n"
   ]
  }
 ],
 "metadata": {
  "kernelspec": {
   "display_name": "jax-fem-env",
   "language": "python",
   "name": "python3"
  },
  "language_info": {
   "codemirror_mode": {
    "name": "ipython",
    "version": 3
   },
   "file_extension": ".py",
   "mimetype": "text/x-python",
   "name": "python",
   "nbconvert_exporter": "python",
   "pygments_lexer": "ipython3",
   "version": "3.9.18"
  }
 },
 "nbformat": 4,
 "nbformat_minor": 2
}
