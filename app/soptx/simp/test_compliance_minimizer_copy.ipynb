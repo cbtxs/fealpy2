{
 "cells": [
  {
   "cell_type": "markdown",
   "metadata": {},
   "source": [
    "# 柔顺度计算"
   ]
  },
  {
   "cell_type": "code",
   "execution_count": 1,
   "metadata": {},
   "outputs": [
    {
     "ename": "TracerBoolConversionError",
     "evalue": "Attempted boolean conversion of traced array with shape bool[]..\nThe error occurred while tracing the function projectionFilter at /home/heliang/FEALPy_Development/fealpy/app/StruTopoOpt/compliance_minimizer_copy.py:6 for jit. This concrete value was not available in Python because it depends on the value of the argument projection['isOn'].\nSee https://jax.readthedocs.io/en/latest/errors.html#jax.errors.TracerBoolConversionError",
     "output_type": "error",
     "traceback": [
      "\u001b[0;31m---------------------------------------------------------------------------\u001b[0m",
      "\u001b[0;31mTracerBoolConversionError\u001b[0m                 Traceback (most recent call last)",
      "Cell \u001b[0;32mIn[1], line 7\u001b[0m\n\u001b[1;32m      4\u001b[0m Opt \u001b[38;5;241m=\u001b[39m ComplianceMinimizer()\n\u001b[1;32m      6\u001b[0m rho \u001b[38;5;241m=\u001b[39m jnp\u001b[38;5;241m.\u001b[39mones((Opt\u001b[38;5;241m.\u001b[39mmesh[\u001b[38;5;124m'\u001b[39m\u001b[38;5;124mnelx\u001b[39m\u001b[38;5;124m'\u001b[39m] \u001b[38;5;241m*\u001b[39m Opt\u001b[38;5;241m.\u001b[39mmesh[\u001b[38;5;124m'\u001b[39m\u001b[38;5;124mnely\u001b[39m\u001b[38;5;124m'\u001b[39m]))\n\u001b[0;32m----> 7\u001b[0m compliance \u001b[38;5;241m=\u001b[39m \u001b[43mOpt\u001b[49m\u001b[38;5;241;43m.\u001b[39;49m\u001b[43mcomputeCompliance\u001b[49m\u001b[43m(\u001b[49m\u001b[43mrho\u001b[49m\u001b[43m)\u001b[49m\n\u001b[1;32m      8\u001b[0m \u001b[38;5;28mprint\u001b[39m(\u001b[38;5;124m\"\u001b[39m\u001b[38;5;124mCompliance with default rho:\u001b[39m\u001b[38;5;124m\"\u001b[39m, compliance)\n",
      "File \u001b[0;32m~/FEALPy_Development/fealpy/app/StruTopoOpt/compliance_minimizer_copy.py:148\u001b[0m, in \u001b[0;36mComplianceMinimizer.computeCompliance\u001b[0;34m(self, rho)\u001b[0m\n\u001b[1;32m    146\u001b[0m \u001b[38;5;28;01mdef\u001b[39;00m \u001b[38;5;21mcomputeCompliance\u001b[39m(\u001b[38;5;28mself\u001b[39m, rho):\n\u001b[0;32m--> 148\u001b[0m     rho \u001b[38;5;241m=\u001b[39m \u001b[38;5;28;43mself\u001b[39;49m\u001b[38;5;241;43m.\u001b[39;49m\u001b[43mprojectionFilter\u001b[49m\u001b[43m(\u001b[49m\u001b[43mrho\u001b[49m\u001b[43m)\u001b[49m\n\u001b[1;32m    149\u001b[0m     E \u001b[38;5;241m=\u001b[39m \u001b[38;5;28mself\u001b[39m\u001b[38;5;241m.\u001b[39mmaterialModel(rho)\n\u001b[1;32m    150\u001b[0m     K \u001b[38;5;241m=\u001b[39m \u001b[38;5;28mself\u001b[39m\u001b[38;5;241m.\u001b[39massembleK(E)\n",
      "File \u001b[0;32m~/FEALPy_Development/fealpy/app/StruTopoOpt/compliance_minimizer_copy.py:135\u001b[0m, in \u001b[0;36mComplianceMinimizer.projectionFilter\u001b[0;34m(self, rho)\u001b[0m\n\u001b[1;32m    134\u001b[0m \u001b[38;5;28;01mdef\u001b[39;00m \u001b[38;5;21mprojectionFilter\u001b[39m(\u001b[38;5;28mself\u001b[39m, rho):\n\u001b[0;32m--> 135\u001b[0m     \u001b[38;5;28;01mreturn\u001b[39;00m \u001b[43mprojectionFilter\u001b[49m\u001b[43m(\u001b[49m\u001b[38;5;28;43mself\u001b[39;49m\u001b[38;5;241;43m.\u001b[39;49m\u001b[43mprojection\u001b[49m\u001b[43m,\u001b[49m\u001b[43m \u001b[49m\u001b[43mrho\u001b[49m\u001b[43m)\u001b[49m\n",
      "    \u001b[0;31m[... skipping hidden 11 frame]\u001b[0m\n",
      "File \u001b[0;32m~/FEALPy_Development/fealpy/app/StruTopoOpt/compliance_minimizer_copy.py:9\u001b[0m, in \u001b[0;36mprojectionFilter\u001b[0;34m(projection, rho)\u001b[0m\n\u001b[1;32m      6\u001b[0m \u001b[38;5;129m@jit\u001b[39m\n\u001b[1;32m      7\u001b[0m \u001b[38;5;66;03m# 投影滤波器\u001b[39;00m\n\u001b[1;32m      8\u001b[0m \u001b[38;5;28;01mdef\u001b[39;00m \u001b[38;5;21mprojectionFilter\u001b[39m(projection, rho):\n\u001b[0;32m----> 9\u001b[0m     \u001b[38;5;28;01mif\u001b[39;00m(projection[\u001b[38;5;124m'\u001b[39m\u001b[38;5;124misOn\u001b[39m\u001b[38;5;124m'\u001b[39m]):\n\u001b[1;32m     10\u001b[0m         v1 \u001b[38;5;241m=\u001b[39m jnp\u001b[38;5;241m.\u001b[39mtanh(projection[\u001b[38;5;124m'\u001b[39m\u001b[38;5;124mc0\u001b[39m\u001b[38;5;124m'\u001b[39m] \u001b[38;5;241m*\u001b[39m projection[\u001b[38;5;124m'\u001b[39m\u001b[38;5;124mbeta\u001b[39m\u001b[38;5;124m'\u001b[39m])\n\u001b[1;32m     11\u001b[0m         nm \u001b[38;5;241m=\u001b[39m v1 \u001b[38;5;241m+\u001b[39m jnp\u001b[38;5;241m.\u001b[39mtanh(projection[\u001b[38;5;124m'\u001b[39m\u001b[38;5;124mbeta\u001b[39m\u001b[38;5;124m'\u001b[39m] \u001b[38;5;241m*\u001b[39m (rho \u001b[38;5;241m-\u001b[39m projection[\u001b[38;5;124m'\u001b[39m\u001b[38;5;124mc0\u001b[39m\u001b[38;5;124m'\u001b[39m]))\n",
      "    \u001b[0;31m[... skipping hidden 1 frame]\u001b[0m\n",
      "File \u001b[0;32m~/miniconda3/envs/jax-fem-env/lib/python3.9/site-packages/jax/_src/core.py:1475\u001b[0m, in \u001b[0;36mconcretization_function_error.<locals>.error\u001b[0;34m(self, arg)\u001b[0m\n\u001b[1;32m   1474\u001b[0m \u001b[38;5;28;01mdef\u001b[39;00m \u001b[38;5;21merror\u001b[39m(\u001b[38;5;28mself\u001b[39m, arg):\n\u001b[0;32m-> 1475\u001b[0m   \u001b[38;5;28;01mraise\u001b[39;00m TracerBoolConversionError(arg)\n",
      "\u001b[0;31mTracerBoolConversionError\u001b[0m: Attempted boolean conversion of traced array with shape bool[]..\nThe error occurred while tracing the function projectionFilter at /home/heliang/FEALPy_Development/fealpy/app/StruTopoOpt/compliance_minimizer_copy.py:6 for jit. This concrete value was not available in Python because it depends on the value of the argument projection['isOn'].\nSee https://jax.readthedocs.io/en/latest/errors.html#jax.errors.TracerBoolConversionError"
     ]
    }
   ],
   "source": [
    "from compliance_minimizer_copy import ComplianceMinimizer\n",
    "import jax.numpy as jnp \n",
    "\n",
    "Opt = ComplianceMinimizer()\n",
    "\n",
    "rho = jnp.ones((Opt.mesh['nelx'] * Opt.mesh['nely']))\n",
    "compliance = Opt.computeCompliance(rho)\n",
    "print(\"Compliance with default rho:\", compliance)"
   ]
  },
  {
   "cell_type": "markdown",
   "metadata": {},
   "source": [
    "JAX 遇到 TracerBoolConversionError 的原因是因为 JAX 无法在 JIT 编译的函数内部对布尔值进行直接判断。这个错误源自于 projection['isOn'] 的布尔判断。"
   ]
  },
  {
   "cell_type": "markdown",
   "metadata": {},
   "source": [
    "## 投影滤波器"
   ]
  },
  {
   "cell_type": "code",
   "execution_count": null,
   "metadata": {},
   "outputs": [
    {
     "name": "stdout",
     "output_type": "stream",
     "text": [
      "Original rho values:  [0.    0.125 0.25  0.375 0.5   0.625 0.75  0.875 1.   ]\n",
      "Projected rho values:  [0.         0.031      0.105      0.26000002 0.5        0.74\n",
      " 0.89500004 0.96900004 1.        ]\n"
     ]
    }
   ],
   "source": [
    "def test_projectionFilter(rho, beta, c0, isOn):\n",
    "    if isOn:\n",
    "        v1 = jnp.tanh(c0 * beta)\n",
    "        nm = v1 + jnp.tanh(beta * (rho - c0))\n",
    "        dnm = v1 + jnp.tanh(beta * (1. - c0))\n",
    "        return nm / dnm\n",
    "    else:\n",
    "        return rho\n",
    "rho_values = jnp.array([0.0, 0.125, 0.25, 0.375, 0.5, 0.625, 0.75, 0.875, 1.0])\n",
    "# 投影参数\n",
    "beta = 4\n",
    "c0 = 0.5\n",
    "isOn = True\n",
    "# 打印原始 rho 值和经过投影滤波器后的 rho 值\n",
    "print(\"Original rho values: \", rho_values)\n",
    "projected_rho_values = test_projectionFilter(rho_values, beta, c0, isOn)\n",
    "print(\"Projected rho values: \", projected_rho_values.round(3))"
   ]
  },
  {
   "cell_type": "markdown",
   "metadata": {},
   "source": [
    "## 测试单元刚度矩阵"
   ]
  },
  {
   "cell_type": "code",
   "execution_count": null,
   "metadata": {},
   "outputs": [
    {
     "name": "stdout",
     "output_type": "stream",
     "text": [
      "KE:\n",
      " [[ 0.4945055   0.17857143 -0.3021978  -0.01373626 -0.24725275 -0.17857143\n",
      "   0.05494506  0.01373626]\n",
      " [ 0.17857143  0.4945055   0.01373626  0.05494506 -0.17857143 -0.24725275\n",
      "  -0.01373626 -0.3021978 ]\n",
      " [-0.3021978   0.01373626  0.4945055  -0.17857143  0.05494506 -0.01373626\n",
      "  -0.24725275  0.17857143]\n",
      " [-0.01373626  0.05494506 -0.17857143  0.4945055   0.01373626 -0.3021978\n",
      "   0.17857143 -0.24725275]\n",
      " [-0.24725275 -0.17857143  0.05494506  0.01373626  0.4945055   0.17857143\n",
      "  -0.3021978  -0.01373626]\n",
      " [-0.17857143 -0.24725275 -0.01373626 -0.3021978   0.17857143  0.4945055\n",
      "   0.01373626  0.05494506]\n",
      " [ 0.05494506 -0.01373626 -0.24725275  0.17857143 -0.3021978   0.01373626\n",
      "   0.4945055  -0.17857143]\n",
      " [ 0.01373626 -0.3021978   0.17857143 -0.24725275 -0.01373626  0.05494506\n",
      "  -0.17857143  0.4945055 ]]\n"
     ]
    }
   ],
   "source": [
    "KE = Opt.K0\n",
    "print(\"KE:\\n\", KE)"
   ]
  },
  {
   "cell_type": "markdown",
   "metadata": {},
   "source": [
    "# 测试体积约束\n",
    "体积约束\n",
    "$$g \\equiv \\frac{\\sum_e\\rho_ev_e}{V^*} - 1 \\leq 0$$\n",
    "其中 $\\rho_e$ 和 $v_e$ 分别是第 $e$ 个单元的密度和体积。\n",
    "\n",
    "`computeGlobalVolumeConstraint` 中的实现假设了每个单元体积相同且归一化，从而使用单元密度的平均值 $\\mathrm{mean}(\\rho)$ 来近似 $\\sum_e\\rho_ev_e$\n",
    "\n",
    "对于输入 $\\rho=[0.1,0.3,0.5,0.7,0.9]$，单元体积 $v_e=0.2$，因此 $g(\\rho)=\\frac{0.5}{0.5}-1=0$，$\\frac{\\partial{g(\\rho)}}{\\partial\\rho}=\\frac{v_e}{V^*}=\\frac{0.2}{0.5}=0.4$"
   ]
  },
  {
   "cell_type": "code",
   "execution_count": null,
   "metadata": {},
   "outputs": [
    {
     "name": "stdout",
     "output_type": "stream",
     "text": [
      "Original rho values:  [0.1 0.3 0.5 0.7 0.9]\n",
      "test: 0.5\n",
      "Constraint value:  0.0\n",
      "Constraint gradient:  [0.4 0.4 0.4 0.4 0.4]\n",
      "Numerical gradient:  [0.40233135 0.40233135 0.40233135 0.40233135 0.40233135]\n",
      "Gradient error:  0.005213049\n"
     ]
    }
   ],
   "source": [
    "import jax.numpy as jnp\n",
    "from jax import value_and_grad\n",
    "\n",
    "# 定义计算体积约束的函数\n",
    "def computeGlobalVolumeConstraint(rho, vf):\n",
    "    g = jnp.mean(rho) / vf - 1.\n",
    "    return g\n",
    "\n",
    "# 测试函数\n",
    "def test_computeConstraints(rho, vf):\n",
    "    # 计算体积约束的值及其灵敏度\n",
    "    constraint_value, constraint_grad = value_and_grad(computeGlobalVolumeConstraint)(rho, vf)\n",
    "    return constraint_value, constraint_grad\n",
    "\n",
    "# 数值梯度计算函数\n",
    "def numerical_grad(f, x, vf, eps=1e-5):\n",
    "    grad = jnp.zeros_like(x)\n",
    "    for i in range(len(x)):\n",
    "        x_pos = x.at[i].add(eps)\n",
    "        x_neg = x.at[i].add(-eps)\n",
    "        grad = grad.at[i].set((f(x_pos, vf) - f(x_neg, vf)) / (2 * eps))\n",
    "    return grad\n",
    "\n",
    "# 设置测试的 rho 值和体积分数 vf\n",
    "rho_values = jnp.array([0.1, 0.3, 0.5, 0.7, 0.9])\n",
    "vf = 0.5\n",
    "\n",
    "# 打印原始 rho 值\n",
    "print(\"Original rho values: \", rho_values)\n",
    "\n",
    "# 调用测试函数并打印结果\n",
    "constraint_value, constraint_grad = test_computeConstraints(rho_values, vf)\n",
    "print(\"test:\", jnp.mean(rho_values))\n",
    "print(\"Constraint value: \", constraint_value)\n",
    "print(\"Constraint gradient: \", constraint_grad)\n",
    "\n",
    "# 计算数值梯度\n",
    "numerical_gradient = numerical_grad(computeGlobalVolumeConstraint, rho_values, vf)\n",
    "print(\"Numerical gradient: \", numerical_gradient)\n",
    "\n",
    "# 比较数值梯度和自动微分计算的梯度\n",
    "error = jnp.linalg.norm(constraint_grad - numerical_gradient)\n",
    "print(\"Gradient error: \", error)\n"
   ]
  }
 ],
 "metadata": {
  "kernelspec": {
   "display_name": "jax-fem-env",
   "language": "python",
   "name": "python3"
  },
  "language_info": {
   "codemirror_mode": {
    "name": "ipython",
    "version": 3
   },
   "file_extension": ".py",
   "mimetype": "text/x-python",
   "name": "python",
   "nbconvert_exporter": "python",
   "pygments_lexer": "ipython3",
   "version": "3.10.12"
  }
 },
 "nbformat": 4,
 "nbformat_minor": 2
}
